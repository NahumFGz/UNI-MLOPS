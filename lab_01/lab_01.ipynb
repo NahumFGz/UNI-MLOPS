{
  "cells": [
    {
      "cell_type": "code",
      "execution_count": 3,
      "metadata": {
        "colab": {
          "base_uri": "https://localhost:8080/"
        },
        "id": "iArLUYfZJQyI",
        "outputId": "c7058a8e-2552-4af7-d774-424adfb684f0"
      },
      "outputs": [
        {
          "name": "stdout",
          "output_type": "stream",
          "text": [
            "0.875\n",
            "              precision    recall  f1-score   support\n",
            "\n",
            "           0       0.75      1.00      0.86         3\n",
            "           1       1.00      0.80      0.89         5\n",
            "\n",
            "    accuracy                           0.88         8\n",
            "   macro avg       0.88      0.90      0.87         8\n",
            "weighted avg       0.91      0.88      0.88         8\n",
            "\n"
          ]
        }
      ],
      "source": [
        "import numpy as np\n",
        "import pandas as pd\n",
        "\n",
        "training_data = pd.read_csv('storepurchasedata.csv')\n",
        "\n",
        "training_data.describe()\n",
        "\n",
        "X = training_data.iloc[:, :-1].values\n",
        "y = training_data.iloc[:,-1].values\n",
        "\n",
        "from sklearn.model_selection import train_test_split\n",
        "X_train, X_test, y_train, y_test = train_test_split(X, y, test_size =.20,random_state=0)\n",
        "\n",
        "from sklearn.preprocessing import StandardScaler\n",
        "sc = StandardScaler()\n",
        "X_train = sc.fit_transform(X_train)\n",
        "X_test = sc.transform(X_test)\n",
        "\n",
        "from sklearn.neighbors import KNeighborsClassifier\n",
        "# minkowski is for ecledian distance\n",
        "classifier = KNeighborsClassifier(n_neighbors = 5, metric = 'minkowski', p = 2)\n",
        "\n",
        "# Model training\n",
        "classifier.fit(X_train, y_train)\n",
        "\n",
        "y_pred = classifier.predict(X_test)\n",
        "y_prob = classifier.predict_proba(X_test)[:,1]\n",
        "\n",
        "from sklearn.metrics import confusion_matrix\n",
        "\n",
        "cm = confusion_matrix(y_test, y_pred)\n",
        "\n",
        "from sklearn.metrics import accuracy_score\n",
        "\n",
        "print(accuracy_score(y_test,y_pred))\n",
        "\n",
        "\n",
        "from sklearn.metrics import classification_report\n",
        "\n",
        "print(classification_report(y_test,y_pred))\n",
        "\n",
        "\n",
        "new_prediction = classifier.predict(sc.transform(np.array([[40,20000]])))\n",
        "\n",
        "new_prediction_proba = classifier.predict_proba(sc.transform(np.array([[40,20000]])))[:,1]\n",
        "\n",
        "new_pred = classifier.predict(sc.transform(np.array([[42,50000]])))\n",
        "\n",
        "new_pred_proba = classifier.predict_proba(sc.transform(np.array([[42,50000]])))[:,1]\n",
        "\n",
        "\n",
        "\n",
        "# Picking the Model and Standard Scaler\n",
        "\n",
        "import pickle\n",
        "\n",
        "model_file = \"classifier.pickle\"\n",
        "\n",
        "pickle.dump(classifier, open(model_file,'wb'))\n",
        "\n",
        "scaler_file = \"sc.pickle\"\n",
        "\n",
        "pickle.dump(sc, open(scaler_file,'wb'))"
      ]
    },
    {
      "cell_type": "code",
      "execution_count": null,
      "metadata": {
        "colab": {
          "base_uri": "https://localhost:8080/",
          "height": 193
        },
        "id": "G5tRcpFKJuaX",
        "outputId": "b0e5c4f6-2655-4e99-a64d-6c585b343b91"
      },
      "outputs": [
        {
          "name": "stdout",
          "output_type": "stream",
          "text": [
            "Starting server...\n",
            "https://bn9qv30u7hr-496ff2e9c6d22116-5000-colab.googleusercontent.com/\n",
            " * Serving Flask app '__main__'\n",
            " * Debug mode: off\n"
          ]
        },
        {
          "name": "stderr",
          "output_type": "stream",
          "text": [
            "INFO:werkzeug:\u001b[31m\u001b[1mWARNING: This is a development server. Do not use it in a production deployment. Use a production WSGI server instead.\u001b[0m\n",
            " * Running on http://127.0.0.1:5000\n",
            "INFO:werkzeug:\u001b[33mPress CTRL+C to quit\u001b[0m\n",
            "INFO:werkzeug:127.0.0.1 - - [07/Feb/2025 20:47:59] \"GET /?authuser=1 HTTP/1.1\" 200 -\n",
            "INFO:werkzeug:127.0.0.1 - - [07/Feb/2025 20:48:00] \"\u001b[33mGET /favicon.ico?authuser=1 HTTP/1.1\u001b[0m\" 404 -\n"
          ]
        }
      ],
      "source": [
        "from google.colab.output import eval_js\n",
        "from flask import Flask\n",
        "\n",
        "# Crear la aplicación Flask\n",
        "app = Flask(__name__)\n",
        "\n",
        "# Definir una ruta\n",
        "@app.route(\"/\")\n",
        "def home():\n",
        "    return \"Hello, World! ALOOOOOOOOOOO SEDAPAL!!\"\n",
        "\n",
        "# Mostrar la URL pública generada por Colab para acceder a Flask\n",
        "print(\"Starting server...\")\n",
        "print(eval_js(\"google.colab.kernel.proxyPort(5000)\"))\n",
        "\n",
        "if __name__ == \"__main__\":\n",
        "    app.run(port=5000)\n"
      ]
    },
    {
      "cell_type": "code",
      "execution_count": null,
      "metadata": {
        "id": "oiOoSJgjJ9T1"
      },
      "outputs": [],
      "source": [
        "from flask import Flask, request\n",
        "\n",
        "app = Flask(__name__)\n",
        "\n",
        "@app.route('/model',methods=['POST'])\n",
        "def hello_world():\n",
        "    request_data = request.get_json(force=True)\n",
        "    model_name = request_data['model']\n",
        "    return \"Está solicitando un modelo {0}\".format(model_name)\n",
        "\n",
        "if __name__ == \"__main__\":\n",
        "    app.run(port=8000, debug=True)\n"
      ]
    },
    {
      "cell_type": "code",
      "execution_count": null,
      "metadata": {
        "id": "T_CfXXa_MfHF"
      },
      "outputs": [],
      "source": []
    }
  ],
  "metadata": {
    "colab": {
      "provenance": []
    },
    "kernelspec": {
      "display_name": "venv_labs",
      "language": "python",
      "name": "python3"
    },
    "language_info": {
      "name": "python",
      "version": "3.10.16"
    }
  },
  "nbformat": 4,
  "nbformat_minor": 0
}
