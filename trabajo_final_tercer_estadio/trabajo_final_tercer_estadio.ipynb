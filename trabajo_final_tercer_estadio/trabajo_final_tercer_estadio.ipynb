{
 "cells": [
  {
   "cell_type": "markdown",
   "id": "eaea687b-de6d-4754-aeb0-70a89d37db83",
   "metadata": {},
   "source": [
    "## 1. Dependencias y variables"
   ]
  },
  {
   "cell_type": "code",
   "execution_count": 1,
   "id": "cadad809-2b4e-492f-91ec-56c20e2110c8",
   "metadata": {
    "tags": []
   },
   "outputs": [],
   "source": [
    "import warnings\n",
    "warnings.filterwarnings('ignore')"
   ]
  },
  {
   "cell_type": "code",
   "execution_count": 2,
   "id": "bbf1d4e0-05a0-4aeb-bea1-b026cda91280",
   "metadata": {
    "tags": []
   },
   "outputs": [
    {
     "name": "stdout",
     "output_type": "stream",
     "text": [
      "Service Account: 330930586045-compute@developer.gserviceaccount.com\n"
     ]
    }
   ],
   "source": [
    "shell_output = !gcloud auth list 2>/dev/null\n",
    "SERVICE_ACCOUNT = shell_output[2].replace(\"*\", \"\").strip()\n",
    "print(\"Service Account:\", SERVICE_ACCOUNT)"
   ]
  },
  {
   "cell_type": "code",
   "execution_count": null,
   "id": "17578482-446b-4d6e-a470-11d98bf81c39",
   "metadata": {
    "tags": []
   },
   "outputs": [],
   "source": [
    "USER_FLAG = \"--user\"\n",
    "!pip3 install {USER_FLAG} google-cloud-aiplatform --upgrade\n",
    "!pip3 install {USER_FLAG} kfp==2.4.0 google-cloud-pipeline-components\n",
    "!pip3 install {USER_FLAG} gcsfs\n",
    "!pip install -U google-cloud-aiplatform \"shapely>2\""
   ]
  },
  {
   "cell_type": "code",
   "execution_count": null,
   "id": "38f01d1c-c570-45b5-8f51-8c2c476d8b35",
   "metadata": {
    "tags": []
   },
   "outputs": [],
   "source": [
    "import os\n",
    "\n",
    "if not os.getenv(\"IS_TESTING\"):\n",
    "    # Automatically restart kernel after installs\n",
    "    import IPython\n",
    "\n",
    "    app = IPython.Application.instance()\n",
    "    app.kernel.do_shutdown(True)\n"
   ]
  },
  {
   "cell_type": "code",
   "execution_count": null,
   "id": "df28bfd0-fc93-40b4-ab40-ab1fb396340f",
   "metadata": {
    "tags": []
   },
   "outputs": [],
   "source": [
    "!python3 -c \"import kfp; print('KFP SDK version: {}'.format(kfp.__version__))\"\n",
    "!python3 -c \"import google_cloud_pipeline_components; print('google_cloud_pipeline_components version: {}'.format(google_cloud_pipeline_components.__version__))\""
   ]
  },
  {
   "cell_type": "code",
   "execution_count": null,
   "id": "5af1f6e4-7e24-4efc-81a4-a4ccc9105859",
   "metadata": {
    "tags": []
   },
   "outputs": [],
   "source": [
    "import os\n",
    "PROJECT_ID = \"\"\n",
    "if not os.getenv(\"IS_TESTING\"):\n",
    "    shell_output=!gcloud config list --format 'value(core.project)' 2>/dev/null\n",
    "    PROJECT_ID = shell_output[0]\n",
    "    print(\"Project ID: \", PROJECT_ID)\n"
   ]
  },
  {
   "cell_type": "markdown",
   "id": "39f4abe7-18bc-44a9-b4fc-08e54ba6b562",
   "metadata": {},
   "source": [
    "## 2. Librerias"
   ]
  },
  {
   "cell_type": "code",
   "execution_count": 3,
   "id": "0d925460-0577-4f68-b184-1f47d23e77bb",
   "metadata": {
    "tags": []
   },
   "outputs": [],
   "source": [
    "import os\n",
    "import pprint as pp\n",
    "import sys\n",
    "\n",
    "import pickle\n",
    "import os\n",
    "import argparse\n",
    "\n",
    "from sklearn.ensemble import RandomForestRegressor\n",
    "from sklearn.metrics import mean_absolute_error,r2_score,mean_squared_error,mean_absolute_percentage_error\n",
    "import numpy as np\n",
    "import pandas as pd\n",
    "\n",
    "from google.cloud import storage\n",
    "from google.cloud import aiplatform "
   ]
  },
  {
   "cell_type": "markdown",
   "id": "4d57ca8d-e047-472a-a7cd-04039963e294",
   "metadata": {
    "tags": []
   },
   "source": [
    "## 3. Modelo"
   ]
  },
  {
   "cell_type": "code",
   "execution_count": 4,
   "id": "7ccb9696-21b0-4a17-a754-65a9a4bcdbf0",
   "metadata": {
    "tags": []
   },
   "outputs": [
    {
     "data": {
      "text/html": [
       "<div>\n",
       "<style scoped>\n",
       "    .dataframe tbody tr th:only-of-type {\n",
       "        vertical-align: middle;\n",
       "    }\n",
       "\n",
       "    .dataframe tbody tr th {\n",
       "        vertical-align: top;\n",
       "    }\n",
       "\n",
       "    .dataframe thead th {\n",
       "        text-align: right;\n",
       "    }\n",
       "</style>\n",
       "<table border=\"1\" class=\"dataframe\">\n",
       "  <thead>\n",
       "    <tr style=\"text-align: right;\">\n",
       "      <th></th>\n",
       "      <th>ID</th>\n",
       "      <th>SeriousDlqin2yrs</th>\n",
       "      <th>RevolvingUtilizationOfUnsecuredLines</th>\n",
       "      <th>age</th>\n",
       "      <th>NumberOfTime30-59DaysPastDueNotWorse</th>\n",
       "      <th>DebtRatio</th>\n",
       "      <th>MonthlyIncome</th>\n",
       "      <th>NumberOfOpenCreditLinesAndLoans</th>\n",
       "      <th>NumberOfTimes90DaysLate</th>\n",
       "      <th>NumberRealEstateLoansOrLines</th>\n",
       "      <th>NumberOfTime60-89DaysPastDueNotWorse</th>\n",
       "      <th>NumberOfDependents</th>\n",
       "    </tr>\n",
       "  </thead>\n",
       "  <tbody>\n",
       "    <tr>\n",
       "      <th>0</th>\n",
       "      <td>1</td>\n",
       "      <td>1</td>\n",
       "      <td>0.766127</td>\n",
       "      <td>45</td>\n",
       "      <td>2</td>\n",
       "      <td>0.802982</td>\n",
       "      <td>9120.0</td>\n",
       "      <td>13</td>\n",
       "      <td>0</td>\n",
       "      <td>6</td>\n",
       "      <td>0</td>\n",
       "      <td>2.0</td>\n",
       "    </tr>\n",
       "    <tr>\n",
       "      <th>1</th>\n",
       "      <td>2</td>\n",
       "      <td>0</td>\n",
       "      <td>0.957151</td>\n",
       "      <td>40</td>\n",
       "      <td>0</td>\n",
       "      <td>0.121876</td>\n",
       "      <td>2600.0</td>\n",
       "      <td>4</td>\n",
       "      <td>0</td>\n",
       "      <td>0</td>\n",
       "      <td>0</td>\n",
       "      <td>1.0</td>\n",
       "    </tr>\n",
       "    <tr>\n",
       "      <th>2</th>\n",
       "      <td>3</td>\n",
       "      <td>0</td>\n",
       "      <td>0.658180</td>\n",
       "      <td>38</td>\n",
       "      <td>1</td>\n",
       "      <td>0.085113</td>\n",
       "      <td>3042.0</td>\n",
       "      <td>2</td>\n",
       "      <td>1</td>\n",
       "      <td>0</td>\n",
       "      <td>0</td>\n",
       "      <td>0.0</td>\n",
       "    </tr>\n",
       "    <tr>\n",
       "      <th>3</th>\n",
       "      <td>4</td>\n",
       "      <td>0</td>\n",
       "      <td>0.233810</td>\n",
       "      <td>30</td>\n",
       "      <td>0</td>\n",
       "      <td>0.036050</td>\n",
       "      <td>3300.0</td>\n",
       "      <td>5</td>\n",
       "      <td>0</td>\n",
       "      <td>0</td>\n",
       "      <td>0</td>\n",
       "      <td>0.0</td>\n",
       "    </tr>\n",
       "    <tr>\n",
       "      <th>4</th>\n",
       "      <td>5</td>\n",
       "      <td>0</td>\n",
       "      <td>0.907239</td>\n",
       "      <td>49</td>\n",
       "      <td>1</td>\n",
       "      <td>0.024926</td>\n",
       "      <td>63588.0</td>\n",
       "      <td>7</td>\n",
       "      <td>0</td>\n",
       "      <td>1</td>\n",
       "      <td>0</td>\n",
       "      <td>0.0</td>\n",
       "    </tr>\n",
       "  </tbody>\n",
       "</table>\n",
       "</div>"
      ],
      "text/plain": [
       "   ID  SeriousDlqin2yrs  RevolvingUtilizationOfUnsecuredLines  age  \\\n",
       "0   1                 1                              0.766127   45   \n",
       "1   2                 0                              0.957151   40   \n",
       "2   3                 0                              0.658180   38   \n",
       "3   4                 0                              0.233810   30   \n",
       "4   5                 0                              0.907239   49   \n",
       "\n",
       "   NumberOfTime30-59DaysPastDueNotWorse  DebtRatio  MonthlyIncome  \\\n",
       "0                                     2   0.802982         9120.0   \n",
       "1                                     0   0.121876         2600.0   \n",
       "2                                     1   0.085113         3042.0   \n",
       "3                                     0   0.036050         3300.0   \n",
       "4                                     1   0.024926        63588.0   \n",
       "\n",
       "   NumberOfOpenCreditLinesAndLoans  NumberOfTimes90DaysLate  \\\n",
       "0                               13                        0   \n",
       "1                                4                        0   \n",
       "2                                2                        1   \n",
       "3                                5                        0   \n",
       "4                                7                        0   \n",
       "\n",
       "   NumberRealEstateLoansOrLines  NumberOfTime60-89DaysPastDueNotWorse  \\\n",
       "0                             6                                     0   \n",
       "1                             0                                     0   \n",
       "2                             0                                     0   \n",
       "3                             0                                     0   \n",
       "4                             1                                     0   \n",
       "\n",
       "   NumberOfDependents  \n",
       "0                 2.0  \n",
       "1                 1.0  \n",
       "2                 0.0  \n",
       "3                 0.0  \n",
       "4                 0.0  "
      ]
     },
     "execution_count": 4,
     "metadata": {},
     "output_type": "execute_result"
    }
   ],
   "source": [
    "BUCKET_NAME=\"gs://bucket2025nahumfg/inputs/trabajo_final_tercer_estadio\"\n",
    "url = BUCKET_NAME+\"/CreditScoring.csv\"\n",
    "data = pd.read_csv(url)\n",
    "data.head()"
   ]
  },
  {
   "cell_type": "code",
   "execution_count": 5,
   "id": "3ece3772-d15b-4fd1-a7d3-d0505ab48734",
   "metadata": {
    "tags": []
   },
   "outputs": [],
   "source": [
    "modelling_columns = [\n",
    "                      'SeriousDlqin2yrs'\n",
    "                    , 'RevolvingUtilizationOfUnsecuredLines'\n",
    "                    , 'age'\n",
    "                    , 'NumberOfTime30-59DaysPastDueNotWorse'\n",
    "                    , 'DebtRatio'\n",
    "                    , 'MonthlyIncome'\n",
    "                    , 'NumberOfOpenCreditLinesAndLoans'\n",
    "                    , 'NumberOfTimes90DaysLate'\n",
    "                    ,'NumberRealEstateLoansOrLines'\n",
    "                    , 'NumberOfTime60-89DaysPastDueNotWorse'\n",
    "                    ,'NumberOfDependents'\n",
    "                    ]\n",
    "data = data[modelling_columns]"
   ]
  },
  {
   "cell_type": "code",
   "execution_count": 6,
   "id": "f9ad00b9-5cb5-4390-acde-7ab4778a7584",
   "metadata": {
    "tags": []
   },
   "outputs": [],
   "source": [
    "train_size = 0.8\n",
    "test_size = 0.1\n",
    "valid_size = 0.1\n",
    "\n",
    "train_ds, valid_ds, test_ds = np.split(data.sample(frac=1, random_state=42), [int((train_size)*len(data)), int((1-test_size)*len(data))])"
   ]
  },
  {
   "cell_type": "code",
   "execution_count": 7,
   "id": "523f40a9-c4b2-4a30-9bf0-f4cb97a9ae12",
   "metadata": {
    "tags": []
   },
   "outputs": [],
   "source": [
    "target = \"SeriousDlqin2yrs\"\n",
    "\n",
    "x_train = train_ds.drop(columns=target, axis=1)\n",
    "y_train = train_ds[target]\n",
    "\n",
    "x_valid = valid_ds.drop(columns=target, axis=1)\n",
    "y_valid = valid_ds[target]\n",
    "\n",
    "x_test = test_ds.drop(columns=target, axis=1)\n",
    "y_test = test_ds[target]\n"
   ]
  },
  {
   "cell_type": "code",
   "execution_count": 8,
   "id": "7fe42a83-bd74-4b72-869d-b99244de7d6a",
   "metadata": {
    "tags": []
   },
   "outputs": [
    {
     "data": {
      "text/html": [
       "<style>#sk-container-id-1 {\n",
       "  /* Definition of color scheme common for light and dark mode */\n",
       "  --sklearn-color-text: #000;\n",
       "  --sklearn-color-text-muted: #666;\n",
       "  --sklearn-color-line: gray;\n",
       "  /* Definition of color scheme for unfitted estimators */\n",
       "  --sklearn-color-unfitted-level-0: #fff5e6;\n",
       "  --sklearn-color-unfitted-level-1: #f6e4d2;\n",
       "  --sklearn-color-unfitted-level-2: #ffe0b3;\n",
       "  --sklearn-color-unfitted-level-3: chocolate;\n",
       "  /* Definition of color scheme for fitted estimators */\n",
       "  --sklearn-color-fitted-level-0: #f0f8ff;\n",
       "  --sklearn-color-fitted-level-1: #d4ebff;\n",
       "  --sklearn-color-fitted-level-2: #b3dbfd;\n",
       "  --sklearn-color-fitted-level-3: cornflowerblue;\n",
       "\n",
       "  /* Specific color for light theme */\n",
       "  --sklearn-color-text-on-default-background: var(--sg-text-color, var(--theme-code-foreground, var(--jp-content-font-color1, black)));\n",
       "  --sklearn-color-background: var(--sg-background-color, var(--theme-background, var(--jp-layout-color0, white)));\n",
       "  --sklearn-color-border-box: var(--sg-text-color, var(--theme-code-foreground, var(--jp-content-font-color1, black)));\n",
       "  --sklearn-color-icon: #696969;\n",
       "\n",
       "  @media (prefers-color-scheme: dark) {\n",
       "    /* Redefinition of color scheme for dark theme */\n",
       "    --sklearn-color-text-on-default-background: var(--sg-text-color, var(--theme-code-foreground, var(--jp-content-font-color1, white)));\n",
       "    --sklearn-color-background: var(--sg-background-color, var(--theme-background, var(--jp-layout-color0, #111)));\n",
       "    --sklearn-color-border-box: var(--sg-text-color, var(--theme-code-foreground, var(--jp-content-font-color1, white)));\n",
       "    --sklearn-color-icon: #878787;\n",
       "  }\n",
       "}\n",
       "\n",
       "#sk-container-id-1 {\n",
       "  color: var(--sklearn-color-text);\n",
       "}\n",
       "\n",
       "#sk-container-id-1 pre {\n",
       "  padding: 0;\n",
       "}\n",
       "\n",
       "#sk-container-id-1 input.sk-hidden--visually {\n",
       "  border: 0;\n",
       "  clip: rect(1px 1px 1px 1px);\n",
       "  clip: rect(1px, 1px, 1px, 1px);\n",
       "  height: 1px;\n",
       "  margin: -1px;\n",
       "  overflow: hidden;\n",
       "  padding: 0;\n",
       "  position: absolute;\n",
       "  width: 1px;\n",
       "}\n",
       "\n",
       "#sk-container-id-1 div.sk-dashed-wrapped {\n",
       "  border: 1px dashed var(--sklearn-color-line);\n",
       "  margin: 0 0.4em 0.5em 0.4em;\n",
       "  box-sizing: border-box;\n",
       "  padding-bottom: 0.4em;\n",
       "  background-color: var(--sklearn-color-background);\n",
       "}\n",
       "\n",
       "#sk-container-id-1 div.sk-container {\n",
       "  /* jupyter's `normalize.less` sets `[hidden] { display: none; }`\n",
       "     but bootstrap.min.css set `[hidden] { display: none !important; }`\n",
       "     so we also need the `!important` here to be able to override the\n",
       "     default hidden behavior on the sphinx rendered scikit-learn.org.\n",
       "     See: https://github.com/scikit-learn/scikit-learn/issues/21755 */\n",
       "  display: inline-block !important;\n",
       "  position: relative;\n",
       "}\n",
       "\n",
       "#sk-container-id-1 div.sk-text-repr-fallback {\n",
       "  display: none;\n",
       "}\n",
       "\n",
       "div.sk-parallel-item,\n",
       "div.sk-serial,\n",
       "div.sk-item {\n",
       "  /* draw centered vertical line to link estimators */\n",
       "  background-image: linear-gradient(var(--sklearn-color-text-on-default-background), var(--sklearn-color-text-on-default-background));\n",
       "  background-size: 2px 100%;\n",
       "  background-repeat: no-repeat;\n",
       "  background-position: center center;\n",
       "}\n",
       "\n",
       "/* Parallel-specific style estimator block */\n",
       "\n",
       "#sk-container-id-1 div.sk-parallel-item::after {\n",
       "  content: \"\";\n",
       "  width: 100%;\n",
       "  border-bottom: 2px solid var(--sklearn-color-text-on-default-background);\n",
       "  flex-grow: 1;\n",
       "}\n",
       "\n",
       "#sk-container-id-1 div.sk-parallel {\n",
       "  display: flex;\n",
       "  align-items: stretch;\n",
       "  justify-content: center;\n",
       "  background-color: var(--sklearn-color-background);\n",
       "  position: relative;\n",
       "}\n",
       "\n",
       "#sk-container-id-1 div.sk-parallel-item {\n",
       "  display: flex;\n",
       "  flex-direction: column;\n",
       "}\n",
       "\n",
       "#sk-container-id-1 div.sk-parallel-item:first-child::after {\n",
       "  align-self: flex-end;\n",
       "  width: 50%;\n",
       "}\n",
       "\n",
       "#sk-container-id-1 div.sk-parallel-item:last-child::after {\n",
       "  align-self: flex-start;\n",
       "  width: 50%;\n",
       "}\n",
       "\n",
       "#sk-container-id-1 div.sk-parallel-item:only-child::after {\n",
       "  width: 0;\n",
       "}\n",
       "\n",
       "/* Serial-specific style estimator block */\n",
       "\n",
       "#sk-container-id-1 div.sk-serial {\n",
       "  display: flex;\n",
       "  flex-direction: column;\n",
       "  align-items: center;\n",
       "  background-color: var(--sklearn-color-background);\n",
       "  padding-right: 1em;\n",
       "  padding-left: 1em;\n",
       "}\n",
       "\n",
       "\n",
       "/* Toggleable style: style used for estimator/Pipeline/ColumnTransformer box that is\n",
       "clickable and can be expanded/collapsed.\n",
       "- Pipeline and ColumnTransformer use this feature and define the default style\n",
       "- Estimators will overwrite some part of the style using the `sk-estimator` class\n",
       "*/\n",
       "\n",
       "/* Pipeline and ColumnTransformer style (default) */\n",
       "\n",
       "#sk-container-id-1 div.sk-toggleable {\n",
       "  /* Default theme specific background. It is overwritten whether we have a\n",
       "  specific estimator or a Pipeline/ColumnTransformer */\n",
       "  background-color: var(--sklearn-color-background);\n",
       "}\n",
       "\n",
       "/* Toggleable label */\n",
       "#sk-container-id-1 label.sk-toggleable__label {\n",
       "  cursor: pointer;\n",
       "  display: flex;\n",
       "  width: 100%;\n",
       "  margin-bottom: 0;\n",
       "  padding: 0.5em;\n",
       "  box-sizing: border-box;\n",
       "  text-align: center;\n",
       "  align-items: start;\n",
       "  justify-content: space-between;\n",
       "  gap: 0.5em;\n",
       "}\n",
       "\n",
       "#sk-container-id-1 label.sk-toggleable__label .caption {\n",
       "  font-size: 0.6rem;\n",
       "  font-weight: lighter;\n",
       "  color: var(--sklearn-color-text-muted);\n",
       "}\n",
       "\n",
       "#sk-container-id-1 label.sk-toggleable__label-arrow:before {\n",
       "  /* Arrow on the left of the label */\n",
       "  content: \"▸\";\n",
       "  float: left;\n",
       "  margin-right: 0.25em;\n",
       "  color: var(--sklearn-color-icon);\n",
       "}\n",
       "\n",
       "#sk-container-id-1 label.sk-toggleable__label-arrow:hover:before {\n",
       "  color: var(--sklearn-color-text);\n",
       "}\n",
       "\n",
       "/* Toggleable content - dropdown */\n",
       "\n",
       "#sk-container-id-1 div.sk-toggleable__content {\n",
       "  max-height: 0;\n",
       "  max-width: 0;\n",
       "  overflow: hidden;\n",
       "  text-align: left;\n",
       "  /* unfitted */\n",
       "  background-color: var(--sklearn-color-unfitted-level-0);\n",
       "}\n",
       "\n",
       "#sk-container-id-1 div.sk-toggleable__content.fitted {\n",
       "  /* fitted */\n",
       "  background-color: var(--sklearn-color-fitted-level-0);\n",
       "}\n",
       "\n",
       "#sk-container-id-1 div.sk-toggleable__content pre {\n",
       "  margin: 0.2em;\n",
       "  border-radius: 0.25em;\n",
       "  color: var(--sklearn-color-text);\n",
       "  /* unfitted */\n",
       "  background-color: var(--sklearn-color-unfitted-level-0);\n",
       "}\n",
       "\n",
       "#sk-container-id-1 div.sk-toggleable__content.fitted pre {\n",
       "  /* unfitted */\n",
       "  background-color: var(--sklearn-color-fitted-level-0);\n",
       "}\n",
       "\n",
       "#sk-container-id-1 input.sk-toggleable__control:checked~div.sk-toggleable__content {\n",
       "  /* Expand drop-down */\n",
       "  max-height: 200px;\n",
       "  max-width: 100%;\n",
       "  overflow: auto;\n",
       "}\n",
       "\n",
       "#sk-container-id-1 input.sk-toggleable__control:checked~label.sk-toggleable__label-arrow:before {\n",
       "  content: \"▾\";\n",
       "}\n",
       "\n",
       "/* Pipeline/ColumnTransformer-specific style */\n",
       "\n",
       "#sk-container-id-1 div.sk-label input.sk-toggleable__control:checked~label.sk-toggleable__label {\n",
       "  color: var(--sklearn-color-text);\n",
       "  background-color: var(--sklearn-color-unfitted-level-2);\n",
       "}\n",
       "\n",
       "#sk-container-id-1 div.sk-label.fitted input.sk-toggleable__control:checked~label.sk-toggleable__label {\n",
       "  background-color: var(--sklearn-color-fitted-level-2);\n",
       "}\n",
       "\n",
       "/* Estimator-specific style */\n",
       "\n",
       "/* Colorize estimator box */\n",
       "#sk-container-id-1 div.sk-estimator input.sk-toggleable__control:checked~label.sk-toggleable__label {\n",
       "  /* unfitted */\n",
       "  background-color: var(--sklearn-color-unfitted-level-2);\n",
       "}\n",
       "\n",
       "#sk-container-id-1 div.sk-estimator.fitted input.sk-toggleable__control:checked~label.sk-toggleable__label {\n",
       "  /* fitted */\n",
       "  background-color: var(--sklearn-color-fitted-level-2);\n",
       "}\n",
       "\n",
       "#sk-container-id-1 div.sk-label label.sk-toggleable__label,\n",
       "#sk-container-id-1 div.sk-label label {\n",
       "  /* The background is the default theme color */\n",
       "  color: var(--sklearn-color-text-on-default-background);\n",
       "}\n",
       "\n",
       "/* On hover, darken the color of the background */\n",
       "#sk-container-id-1 div.sk-label:hover label.sk-toggleable__label {\n",
       "  color: var(--sklearn-color-text);\n",
       "  background-color: var(--sklearn-color-unfitted-level-2);\n",
       "}\n",
       "\n",
       "/* Label box, darken color on hover, fitted */\n",
       "#sk-container-id-1 div.sk-label.fitted:hover label.sk-toggleable__label.fitted {\n",
       "  color: var(--sklearn-color-text);\n",
       "  background-color: var(--sklearn-color-fitted-level-2);\n",
       "}\n",
       "\n",
       "/* Estimator label */\n",
       "\n",
       "#sk-container-id-1 div.sk-label label {\n",
       "  font-family: monospace;\n",
       "  font-weight: bold;\n",
       "  display: inline-block;\n",
       "  line-height: 1.2em;\n",
       "}\n",
       "\n",
       "#sk-container-id-1 div.sk-label-container {\n",
       "  text-align: center;\n",
       "}\n",
       "\n",
       "/* Estimator-specific */\n",
       "#sk-container-id-1 div.sk-estimator {\n",
       "  font-family: monospace;\n",
       "  border: 1px dotted var(--sklearn-color-border-box);\n",
       "  border-radius: 0.25em;\n",
       "  box-sizing: border-box;\n",
       "  margin-bottom: 0.5em;\n",
       "  /* unfitted */\n",
       "  background-color: var(--sklearn-color-unfitted-level-0);\n",
       "}\n",
       "\n",
       "#sk-container-id-1 div.sk-estimator.fitted {\n",
       "  /* fitted */\n",
       "  background-color: var(--sklearn-color-fitted-level-0);\n",
       "}\n",
       "\n",
       "/* on hover */\n",
       "#sk-container-id-1 div.sk-estimator:hover {\n",
       "  /* unfitted */\n",
       "  background-color: var(--sklearn-color-unfitted-level-2);\n",
       "}\n",
       "\n",
       "#sk-container-id-1 div.sk-estimator.fitted:hover {\n",
       "  /* fitted */\n",
       "  background-color: var(--sklearn-color-fitted-level-2);\n",
       "}\n",
       "\n",
       "/* Specification for estimator info (e.g. \"i\" and \"?\") */\n",
       "\n",
       "/* Common style for \"i\" and \"?\" */\n",
       "\n",
       ".sk-estimator-doc-link,\n",
       "a:link.sk-estimator-doc-link,\n",
       "a:visited.sk-estimator-doc-link {\n",
       "  float: right;\n",
       "  font-size: smaller;\n",
       "  line-height: 1em;\n",
       "  font-family: monospace;\n",
       "  background-color: var(--sklearn-color-background);\n",
       "  border-radius: 1em;\n",
       "  height: 1em;\n",
       "  width: 1em;\n",
       "  text-decoration: none !important;\n",
       "  margin-left: 0.5em;\n",
       "  text-align: center;\n",
       "  /* unfitted */\n",
       "  border: var(--sklearn-color-unfitted-level-1) 1pt solid;\n",
       "  color: var(--sklearn-color-unfitted-level-1);\n",
       "}\n",
       "\n",
       ".sk-estimator-doc-link.fitted,\n",
       "a:link.sk-estimator-doc-link.fitted,\n",
       "a:visited.sk-estimator-doc-link.fitted {\n",
       "  /* fitted */\n",
       "  border: var(--sklearn-color-fitted-level-1) 1pt solid;\n",
       "  color: var(--sklearn-color-fitted-level-1);\n",
       "}\n",
       "\n",
       "/* On hover */\n",
       "div.sk-estimator:hover .sk-estimator-doc-link:hover,\n",
       ".sk-estimator-doc-link:hover,\n",
       "div.sk-label-container:hover .sk-estimator-doc-link:hover,\n",
       ".sk-estimator-doc-link:hover {\n",
       "  /* unfitted */\n",
       "  background-color: var(--sklearn-color-unfitted-level-3);\n",
       "  color: var(--sklearn-color-background);\n",
       "  text-decoration: none;\n",
       "}\n",
       "\n",
       "div.sk-estimator.fitted:hover .sk-estimator-doc-link.fitted:hover,\n",
       ".sk-estimator-doc-link.fitted:hover,\n",
       "div.sk-label-container:hover .sk-estimator-doc-link.fitted:hover,\n",
       ".sk-estimator-doc-link.fitted:hover {\n",
       "  /* fitted */\n",
       "  background-color: var(--sklearn-color-fitted-level-3);\n",
       "  color: var(--sklearn-color-background);\n",
       "  text-decoration: none;\n",
       "}\n",
       "\n",
       "/* Span, style for the box shown on hovering the info icon */\n",
       ".sk-estimator-doc-link span {\n",
       "  display: none;\n",
       "  z-index: 9999;\n",
       "  position: relative;\n",
       "  font-weight: normal;\n",
       "  right: .2ex;\n",
       "  padding: .5ex;\n",
       "  margin: .5ex;\n",
       "  width: min-content;\n",
       "  min-width: 20ex;\n",
       "  max-width: 50ex;\n",
       "  color: var(--sklearn-color-text);\n",
       "  box-shadow: 2pt 2pt 4pt #999;\n",
       "  /* unfitted */\n",
       "  background: var(--sklearn-color-unfitted-level-0);\n",
       "  border: .5pt solid var(--sklearn-color-unfitted-level-3);\n",
       "}\n",
       "\n",
       ".sk-estimator-doc-link.fitted span {\n",
       "  /* fitted */\n",
       "  background: var(--sklearn-color-fitted-level-0);\n",
       "  border: var(--sklearn-color-fitted-level-3);\n",
       "}\n",
       "\n",
       ".sk-estimator-doc-link:hover span {\n",
       "  display: block;\n",
       "}\n",
       "\n",
       "/* \"?\"-specific style due to the `<a>` HTML tag */\n",
       "\n",
       "#sk-container-id-1 a.estimator_doc_link {\n",
       "  float: right;\n",
       "  font-size: 1rem;\n",
       "  line-height: 1em;\n",
       "  font-family: monospace;\n",
       "  background-color: var(--sklearn-color-background);\n",
       "  border-radius: 1rem;\n",
       "  height: 1rem;\n",
       "  width: 1rem;\n",
       "  text-decoration: none;\n",
       "  /* unfitted */\n",
       "  color: var(--sklearn-color-unfitted-level-1);\n",
       "  border: var(--sklearn-color-unfitted-level-1) 1pt solid;\n",
       "}\n",
       "\n",
       "#sk-container-id-1 a.estimator_doc_link.fitted {\n",
       "  /* fitted */\n",
       "  border: var(--sklearn-color-fitted-level-1) 1pt solid;\n",
       "  color: var(--sklearn-color-fitted-level-1);\n",
       "}\n",
       "\n",
       "/* On hover */\n",
       "#sk-container-id-1 a.estimator_doc_link:hover {\n",
       "  /* unfitted */\n",
       "  background-color: var(--sklearn-color-unfitted-level-3);\n",
       "  color: var(--sklearn-color-background);\n",
       "  text-decoration: none;\n",
       "}\n",
       "\n",
       "#sk-container-id-1 a.estimator_doc_link.fitted:hover {\n",
       "  /* fitted */\n",
       "  background-color: var(--sklearn-color-fitted-level-3);\n",
       "}\n",
       "</style><div id=\"sk-container-id-1\" class=\"sk-top-container\"><div class=\"sk-text-repr-fallback\"><pre>RandomForestRegressor()</pre><b>In a Jupyter environment, please rerun this cell to show the HTML representation or trust the notebook. <br />On GitHub, the HTML representation is unable to render, please try loading this page with nbviewer.org.</b></div><div class=\"sk-container\" hidden><div class=\"sk-item\"><div class=\"sk-estimator fitted sk-toggleable\"><input class=\"sk-toggleable__control sk-hidden--visually\" id=\"sk-estimator-id-1\" type=\"checkbox\" checked><label for=\"sk-estimator-id-1\" class=\"sk-toggleable__label fitted sk-toggleable__label-arrow\"><div><div>RandomForestRegressor</div></div><div><a class=\"sk-estimator-doc-link fitted\" rel=\"noreferrer\" target=\"_blank\" href=\"https://scikit-learn.org/1.6/modules/generated/sklearn.ensemble.RandomForestRegressor.html\">?<span>Documentation for RandomForestRegressor</span></a><span class=\"sk-estimator-doc-link fitted\">i<span>Fitted</span></span></div></label><div class=\"sk-toggleable__content fitted\"><pre>RandomForestRegressor()</pre></div> </div></div></div></div>"
      ],
      "text/plain": [
       "RandomForestRegressor()"
      ]
     },
     "execution_count": 8,
     "metadata": {},
     "output_type": "execute_result"
    }
   ],
   "source": [
    "model = RandomForestRegressor()\n",
    "model.fit(x_train , y_train)"
   ]
  },
  {
   "cell_type": "code",
   "execution_count": 9,
   "id": "57260d21-ddc0-445b-b7e6-f5c170dee1c0",
   "metadata": {
    "tags": []
   },
   "outputs": [
    {
     "name": "stdout",
     "output_type": "stream",
     "text": [
      "Adjusted R2 : 0.1753158620137517\n",
      "Mean Absolute Error : 0.10277432922223403\n",
      "Mean Absolute Percentage Error : 2.412625609660365e+16%\n",
      "Mean Squared Error : 0.05278725830204145\n",
      "Root Mean Squared Error : 0.2297547786272169\n"
     ]
    }
   ],
   "source": [
    "y_pred = model.predict(x_valid)\n",
    "\n",
    "#evaluate Model\n",
    "adj_r2 = r2_score(y_true=y_valid, y_pred=y_pred)\n",
    "mae = mean_absolute_error(y_true=y_valid, y_pred=y_pred)\n",
    "mse = mean_squared_error(y_true=y_valid, y_pred=y_pred)\n",
    "mape = mean_absolute_percentage_error(y_true=y_valid, y_pred=y_pred)\n",
    "rmse = np.sqrt(mse)\n",
    "print(f\"Adjusted R2 : {adj_r2}\")\n",
    "print(f\"Mean Absolute Error : {mae}\")\n",
    "print(f\"Mean Absolute Percentage Error : {round(mape,4)*100}%\")\n",
    "print(f\"Mean Squared Error : {mse}\")\n",
    "print(f\"Root Mean Squared Error : {rmse}\")"
   ]
  },
  {
   "cell_type": "markdown",
   "id": "dfe3fa4f-4702-4d71-921f-0f5a00c93ec1",
   "metadata": {
    "tags": []
   },
   "source": [
    "## 4. Primera forma de desplegar"
   ]
  },
  {
   "cell_type": "code",
   "execution_count": 10,
   "id": "65d13bb7-b82d-4dff-a8aa-886d80c42d61",
   "metadata": {
    "tags": []
   },
   "outputs": [
    {
     "name": "stdout",
     "output_type": "stream",
     "text": [
      "Copying file://model.pkl [Content-Type=application/octet-stream]...\n",
      "\\ [1 files][ 81.7 MiB/ 81.7 MiB]                                                \n",
      "Operation completed over 1 objects/81.7 MiB.                                     \n"
     ]
    }
   ],
   "source": [
    "MODEL_PATH=BUCKET_NAME+\"/models/\"\n",
    "model_path = \"./\" + \"model.pkl\"\n",
    "with open(model_path, 'wb') as file:  \n",
    "    pickle.dump(model, file) \n",
    "    \n",
    "#copy model artifacts to GCS storage\n",
    "!gsutil cp \"model.pkl\" $MODEL_PATH"
   ]
  },
  {
   "cell_type": "code",
   "execution_count": 11,
   "id": "22cfc93c-6d69-4b21-931e-7ac009eaf82a",
   "metadata": {
    "tags": []
   },
   "outputs": [
    {
     "name": "stdout",
     "output_type": "stream",
     "text": [
      "Creating Model\n",
      "Create Model backing LRO: projects/330930586045/locations/us-central1/models/5677153467672559616/operations/1965766158686617600\n",
      "Model created. Resource name: projects/330930586045/locations/us-central1/models/5677153467672559616@1\n",
      "To use this Model in another session:\n",
      "model = aiplatform.Model('projects/330930586045/locations/us-central1/models/5677153467672559616@1')\n"
     ]
    }
   ],
   "source": [
    "#Prediction containers list available at : https://cloud.google.com/vertex-ai/docs/predictions/pre-built-containers\n",
    "serving_container_uri = \"us-docker.pkg.dev/vertex-ai/prediction/sklearn-cpu.1-3:latest\"\n",
    "\n",
    "#define GCS location for model artifacts\n",
    "artifact_uri = MODEL_PATH\n",
    "\n",
    "#Upload Model to Vertex AI Model Registry using Python SDK\n",
    "model = aiplatform.Model.upload(display_name= \"MLOps0-model\" ,\n",
    "                                    artifact_uri=artifact_uri,\n",
    "                                    serving_container_image_uri=serving_container_uri)\n"
   ]
  },
  {
   "cell_type": "code",
   "execution_count": 12,
   "id": "300b4cb7-424f-49b6-bc3d-fb12a25d4ae5",
   "metadata": {
    "tags": []
   },
   "outputs": [
    {
     "name": "stdout",
     "output_type": "stream",
     "text": [
      "Creating Endpoint\n",
      "Create Endpoint backing LRO: projects/330930586045/locations/us-central1/endpoints/6830475194511917056/operations/2094224301182943232\n",
      "Endpoint created. Resource name: projects/330930586045/locations/us-central1/endpoints/6830475194511917056\n",
      "To use this Endpoint in another session:\n",
      "endpoint = aiplatform.Endpoint('projects/330930586045/locations/us-central1/endpoints/6830475194511917056')\n",
      "Deploying model to Endpoint : projects/330930586045/locations/us-central1/endpoints/6830475194511917056\n",
      "Deploy Endpoint model backing LRO: projects/330930586045/locations/us-central1/endpoints/6830475194511917056/operations/679988465072340992\n",
      "Endpoint model deployed. Resource name: projects/330930586045/locations/us-central1/endpoints/6830475194511917056\n"
     ]
    }
   ],
   "source": [
    "#Create the model endpoint using Python SDK\n",
    "endpoint = model.deploy(machine_type=\"n1-standard-4\",\n",
    "                        min_replica_count=1,\n",
    "                        max_replica_count=1)"
   ]
  },
  {
   "cell_type": "code",
   "execution_count": 14,
   "id": "e5ae2139-64e2-4d4d-95be-5c63327d4244",
   "metadata": {
    "tags": []
   },
   "outputs": [
    {
     "name": "stdout",
     "output_type": "stream",
     "text": [
      "Prediction(predictions=[0.75], deployed_model_id='2572906687019089920', metadata=None, model_version_id='1', model_resource_name='projects/330930586045/locations/us-central1/models/5677153467672559616', explanations=None)\n"
     ]
    }
   ],
   "source": [
    "#Test the model endpoint using Python SDK\n",
    "\n",
    "#create list to hold request data\n",
    "instances = [\n",
    "    [0.766127, 45, 2, 0.802982, 9120.0, 13, 0, 6, 0, 2.0],\n",
    "  ]\n",
    "\n",
    "prediction = endpoint.predict(instances=instances)\n",
    "\n",
    "print(prediction)\n"
   ]
  },
  {
   "cell_type": "code",
   "execution_count": 16,
   "id": "e53f4c04-2eeb-4c50-9072-43f49f2f6a98",
   "metadata": {},
   "outputs": [
    {
     "name": "stdout",
     "output_type": "stream",
     "text": [
      "Undeploying Endpoint model: projects/330930586045/locations/us-central1/endpoints/6830475194511917056\n",
      "Undeploy Endpoint model backing LRO: projects/330930586045/locations/us-central1/endpoints/6830475194511917056/operations/2526569865410510848\n",
      "Endpoint model undeployed. Resource name: projects/330930586045/locations/us-central1/endpoints/6830475194511917056\n",
      "Deleting Endpoint : projects/330930586045/locations/us-central1/endpoints/6830475194511917056\n",
      "Endpoint deleted. . Resource name: projects/330930586045/locations/us-central1/endpoints/6830475194511917056\n",
      "Deleting Endpoint resource: projects/330930586045/locations/us-central1/endpoints/6830475194511917056\n",
      "Delete Endpoint backing LRO: projects/330930586045/locations/us-central1/operations/7138255883837898752\n",
      "Endpoint resource projects/330930586045/locations/us-central1/endpoints/6830475194511917056 deleted.\n",
      "Deleting Model : projects/330930586045/locations/us-central1/models/5677153467672559616\n",
      "Model deleted. . Resource name: projects/330930586045/locations/us-central1/models/5677153467672559616\n",
      "Deleting Model resource: projects/330930586045/locations/us-central1/models/5677153467672559616\n",
      "Delete Model backing LRO: projects/330930586045/locations/us-central1/models/5677153467672559616/operations/506705432534843392\n",
      "Model resource projects/330930586045/locations/us-central1/models/5677153467672559616 deleted.\n"
     ]
    }
   ],
   "source": [
    "# Undeploy the model and delete the endpoint\n",
    "endpoint.undeploy_all()\n",
    "endpoint.delete()\n",
    "model.delete()"
   ]
  },
  {
   "cell_type": "markdown",
   "id": "a97706d4-b99c-4298-930b-d1b3d1e48d96",
   "metadata": {},
   "source": [
    "## 5. Segunda forma de desplegar"
   ]
  },
  {
   "cell_type": "code",
   "execution_count": 18,
   "id": "65379903-b71d-4f92-b854-88504f433084",
   "metadata": {
    "tags": []
   },
   "outputs": [],
   "source": [
    "from typing import NamedTuple\n",
    "\n",
    "import kfp\n",
    "from kfp import dsl\n",
    "from kfp.dsl import (Artifact, Dataset, Input, InputPath, Model, Output,\n",
    "                        OutputPath, component , ClassificationMetrics , Metrics)\n",
    "\n",
    "from kfp import compiler\n",
    "from kfp.components import load_component_from_file\n",
    "\n",
    "import json\n",
    "import yaml"
   ]
  },
  {
   "cell_type": "code",
   "execution_count": 21,
   "id": "6afeb76d-fce7-441d-a577-5a65dc3a57ec",
   "metadata": {
    "tags": []
   },
   "outputs": [],
   "source": [
    "!mkdir components"
   ]
  },
  {
   "cell_type": "code",
   "execution_count": 22,
   "id": "47383057-6933-42f9-bf60-752d32ac18dc",
   "metadata": {
    "tags": []
   },
   "outputs": [],
   "source": [
    "@component(\n",
    "    packages_to_install=[\"pandas\", \"pyarrow\" , \"fsspec\" , \"gcsfs\"],\n",
    "    base_image=\"python:3.9\",\n",
    "    output_component_file=\"./components/download_data.yaml\"\n",
    ")\n",
    "def download_data(input_data_path : str\n",
    "                  , input_data_filename : str\n",
    "                  , downloaded_data : Output[Dataset]):\n",
    "    \n",
    "    import pandas as pd\n",
    "    import os\n",
    "    \n",
    "    print(f\"input_data_path : {input_data_path}\")\n",
    "    print(f\"input_data_filename : {input_data_filename}\")\n",
    "    print(f\"downloaded_data : {downloaded_data}\")\n",
    "    print(f\"downloaded_data.path : {downloaded_data.path}\")\n",
    "                \n",
    "    url = os.path.join(input_data_path , input_data_filename)\n",
    "    \n",
    "    #read data from GCS location\n",
    "    data = pd.read_csv(url)\n",
    "    \n",
    "    #write to output dataset path\n",
    "    output_data_uri = downloaded_data.path + \".csv\" \n",
    "    data.to_csv(output_data_uri \n",
    "                , index=False\n",
    "                , encoding='utf-8-sig')"
   ]
  },
  {
   "cell_type": "code",
   "execution_count": 23,
   "id": "495ff2fa-08a7-4387-bb26-4582c60f75d8",
   "metadata": {
    "tags": []
   },
   "outputs": [],
   "source": [
    "@component(\n",
    "    packages_to_install=[\"pandas\", \"pyarrow\", \"fsspec\" , \"gcsfs\"],\n",
    "    base_image=\"python:3.9\",\n",
    "    output_component_file=\"./components/preprocess_data.yaml\"\n",
    ")\n",
    "def preprocess_data(train_size : float \n",
    "                    , test_size : float\n",
    "                    , valid_size : float\n",
    "                    , train_data : Output[Dataset]\n",
    "                    , valid_data : Output[Dataset]\n",
    "                    , test_data : Output[Dataset]\n",
    "                    , input_data:  Input[Dataset]\n",
    "                   ):\n",
    "    \n",
    "    import numpy as np\n",
    "    import pandas as pd\n",
    "    \n",
    "    print(f\"train_size : {train_size}\")\n",
    "    print(f\"test_size : {test_size}\")\n",
    "    print(f\"valid_size : {valid_size}\")\n",
    "    print(f\"train_data : {train_data}\")\n",
    "    print(f\"valid_data : {valid_data}\")\n",
    "    print(f\"test_data : {test_data}\")\n",
    "    print(f\"input_data : {input_data}\")\n",
    "    \n",
    "    data = pd.read_csv(input_data.path + \".csv\")\n",
    "    \n",
    "    modelling_columns = [   \n",
    "                      'SeriousDlqin2yrs'\n",
    "                    , 'RevolvingUtilizationOfUnsecuredLines'\n",
    "                    , 'age'\n",
    "                    , 'NumberOfTime30-59DaysPastDueNotWorse'\n",
    "                    , 'DebtRatio'\n",
    "                    , 'MonthlyIncome'\n",
    "                    , 'NumberOfOpenCreditLinesAndLoans'\n",
    "                    , 'NumberOfTimes90DaysLate'\n",
    "                    ,'NumberRealEstateLoansOrLines'\n",
    "                    , 'NumberOfTime60-89DaysPastDueNotWorse'\n",
    "                    ,'NumberOfDependents'\n",
    "                    ]\n",
    "    \n",
    "    data = data[modelling_columns]\n",
    "\n",
    "    train_ds, valid_ds, test_ds = np.split(data.sample(frac=1, random_state=42), [int((train_size)*len(data)), int((1-test_size)*len(data))])\n",
    "    train_ds.to_csv(train_data.path + \".csv\" , index=False, encoding='utf-8-sig')\n",
    "    valid_ds.to_csv(valid_data.path + \".csv\" , index=False, encoding='utf-8-sig')\n",
    "    test_ds.to_csv(test_data.path + \".csv\" , index=False, encoding='utf-8-sig')\n"
   ]
  },
  {
   "cell_type": "code",
   "execution_count": 27,
   "id": "b280b98b-30de-4d6e-b928-30acfae86c16",
   "metadata": {
    "tags": []
   },
   "outputs": [
    {
     "name": "stdout",
     "output_type": "stream",
     "text": [
      "(120000, 11)\n",
      "(15000, 11)\n",
      "(15000, 11)\n"
     ]
    }
   ],
   "source": [
    "print(train_ds.shape)\n",
    "print(valid_ds.shape)\n",
    "print(test_ds.shape)"
   ]
  },
  {
   "cell_type": "code",
   "execution_count": 28,
   "id": "8acc6de1-284a-4694-b76f-b3f9844eddb7",
   "metadata": {
    "tags": []
   },
   "outputs": [],
   "source": [
    "@component(\n",
    "    packages_to_install=[\"kfp==2.4.0\", \"pandas\", \"pyarrow\",  \"scikit-learn==1.3.2\" , \"fsspec\" , \"gcsfs\", \"click==8.1.7\", \"docstring-parser==0.16\", \"kfp-pipeline-spec==0.2.2\", \"kfp-server-api==2.0.5\", \"kubernetes==26.1.0\", \"PyYAML==6.0.2\", \"requests-toolbelt==0.10.1\", \"tabulate==0.9.0\", \"protobuf==3.20.3\", \"urllib3==1.26.20\"]\n",
    "    , base_image=\"python:3.9\"\n",
    "    , output_component_file=\"./components/train.yaml\"\n",
    ")\n",
    "def train_model(\n",
    "    train_data:  Input[Dataset],\n",
    "    model: Output[Model], \n",
    "):\n",
    "    \n",
    "    print(f\"train_data : {train_data}\")\n",
    "    print(f\"model : {model}\")\n",
    "    \n",
    "    from sklearn.ensemble import RandomForestRegressor\n",
    "    import pandas as pd\n",
    "    import pickle\n",
    "    import sklearn\n",
    "\n",
    "    train_ds = pd.read_csv(train_data.path+\".csv\")\n",
    "    my_model = RandomForestRegressor()\n",
    "    \n",
    "    target = \"cnt\"\n",
    "    \n",
    "    x_train = train_ds.drop(columns=target, axis=1)\n",
    "    y_train = train_ds[target]\n",
    "    \n",
    "    my_model.fit(x_train , y_train)\n",
    "    model.metadata[\"model_name\"] = \"RandomForestRegressor\"\n",
    "    model.metadata[\"framework\"] = \"sklearn\"\n",
    "    model.metadata[\"framework_version\"] = sklearn.__version__\n",
    "    file_name = model.path + f\".pkl\"\n",
    "    \n",
    "    with open(file_name, 'wb') as file:  \n",
    "        pickle.dump(my_model, file)\n"
   ]
  },
  {
   "cell_type": "code",
   "execution_count": 29,
   "id": "187bfcc4-261e-4a5d-9d27-5bb987aec60d",
   "metadata": {
    "tags": []
   },
   "outputs": [],
   "source": [
    "@component(\n",
    "    packages_to_install=[\"pandas\", \"pyarrow\",  \"scikit-learn==1.3.2\" , \"fsspec\" , \"gcsfs\"]\n",
    "    , base_image=\"python:3.9\"\n",
    "    , output_component_file=\"./components/evaluate_model.yaml\"\n",
    ")\n",
    "def evaluate_model(\n",
    "    test_data:  Input[Dataset],\n",
    "    model: Input[Model], \n",
    "    target_column_name : str ,\n",
    "    deployment_metric : str ,\n",
    "    deployment_metric_threshold : float ,\n",
    "    kpi: Output[Metrics]\n",
    ")-> NamedTuple(\n",
    "    \"Outputs\",\n",
    "    [\n",
    "        (\"deploy_flag\", str),  # Return parameter.\n",
    "    ],\n",
    "):\n",
    "    \n",
    "    print(f\"test_data : {test_data}\")\n",
    "    print(f\"model : {model}\")\n",
    "    print(f\"kpi : {kpi}\")\n",
    "    print(f\"deployment_metric : {deployment_metric}\")\n",
    "    print(f\"deployment_metric_threshold : {deployment_metric_threshold}\")\n",
    "    \n",
    "    from sklearn.metrics import mean_absolute_error,r2_score,mean_squared_error,mean_absolute_percentage_error\n",
    "    import pandas as pd\n",
    "    import pickle\n",
    "    import numpy as np\n",
    "    import json\n",
    "    \n",
    "    test_ds = pd.read_csv(test_data.path+\".csv\")\n",
    "    target = target_column_name\n",
    "    \n",
    "    x_test = test_ds.drop(columns=target, axis=1)\n",
    "    y_test = test_ds[target]\n",
    "    \n",
    "    print(f\"model.path : {model.path}\")\n",
    "    file_name = model.path + f\".pkl\"\n",
    "    print(f\"file_name : {file_name}\")\n",
    "    #model = pickle.loads(file_name)\n",
    "    with open(file_name, 'rb') as file:  \n",
    "        model = pickle.load(file)\n",
    "    \n",
    "    y_pred = model.predict(x_test)\n",
    "    r2 = r2_score(y_true=y_test, y_pred=y_pred)\n",
    "    mae = mean_absolute_error(y_true=y_test, y_pred=y_pred)\n",
    "    mse = mean_squared_error(y_true=y_test, y_pred=y_pred)\n",
    "    mape = mean_absolute_percentage_error(y_true=y_test, y_pred=y_pred)\n",
    "    rmse = np.sqrt(mse)\n",
    "    \n",
    "    model_metrics = {\"r2\" : r2 \n",
    "                     , \"mae\" : mae \n",
    "                     , \"mape\" : mape \n",
    "                     , \"mse\" : mse \n",
    "                     , \"rmse\" : rmse\n",
    "                    }\n",
    "    \n",
    "    print(f\"Adjusted_R2 : {r2}\")\n",
    "    print(f\"Mean Absolute Error : {mae}\")\n",
    "    print(f\"Mean Absolute Percentage Error : {round(mape,4)*100}%\")\n",
    "    print(f\"Mean Squared Error : {mse}\")\n",
    "    print(f\"Root Mean Squared Error : {rmse}\")\n",
    "    \n",
    "    kpi.log_metric(\"Adjusted_R2\", float(r2))\n",
    "    kpi.log_metric(\"Mean Absolute Error\", float(mae))\n",
    "    kpi.log_metric(\"Mean Absolute Percentage Error\", float(mape))\n",
    "    kpi.log_metric(\"Mean Squared Error\", float(mse))\n",
    "    kpi.log_metric(\"Root Mean Squared Error\", float(rmse))\n",
    "    \n",
    "    actual_metric_value = model_metrics.get(deployment_metric)\n",
    "    \n",
    "    if actual_metric_value >= deployment_metric_threshold:\n",
    "        deploy_flag = \"True\"\n",
    "    else:\n",
    "        deploy_flag = \"False\"\n",
    "        \n",
    "    return (deploy_flag,)\n"
   ]
  },
  {
   "cell_type": "code",
   "execution_count": 30,
   "id": "889bd19f-31cb-4775-bc08-c0346cde62e3",
   "metadata": {
    "tags": []
   },
   "outputs": [],
   "source": [
    "@component(\n",
    "    packages_to_install=[\"pandas\", \"pyarrow\",  \"scikit-learn==1.3.2\" , \"fsspec\" , \"gcsfs\" , \"google-cloud-aiplatform\"]\n",
    "    , base_image=\"python:3.9\"\n",
    "    , output_component_file=\"./components/register_model.yaml\"\n",
    ")\n",
    "def register_model(\n",
    "    serving_container_uri : str ,\n",
    "    project_id : str ,\n",
    "    region: str,\n",
    "    model_name : str , \n",
    "    model: Input[Model], \n",
    ")-> NamedTuple(\n",
    "    \"Outputs\",\n",
    "    [\n",
    "        (\"model_resource_name\", str),  # Return parameter.\n",
    "    ],\n",
    "):\n",
    "    \n",
    "    print(f\"serving_container_uri : {serving_container_uri}\")\n",
    "    print(f\"project_id : {project_id}\")\n",
    "    print(f\"region : {region}\")\n",
    "    print(f\"model : {model}\")\n",
    "    \n",
    "    from google.cloud import aiplatform\n",
    "    \n",
    "    print(f\"model.uri : {model.uri[:-5]}\")\n",
    "    \n",
    "    aiplatform.init(project = project_id , location=region)\n",
    "    model = aiplatform.Model.upload(display_name= model_name ,\n",
    "                                    artifact_uri=model.uri[:-5],\n",
    "                                    serving_container_image_uri=serving_container_uri)\n",
    "    return (model.resource_name,)"
   ]
  },
  {
   "cell_type": "code",
   "execution_count": 31,
   "id": "b92b36c2-0fd8-4d56-8253-a8340bb1a040",
   "metadata": {
    "tags": []
   },
   "outputs": [],
   "source": [
    "@component(\n",
    "    packages_to_install=[\"kfp==2.4.0\", \"pandas\", \"pyarrow\",  \"scikit-learn==1.3.2\" , \"fsspec\" , \"gcsfs\", \"google-cloud-aiplatform\", \"click==8.1.7\", \"kfp-pipeline-spec==0.2.2\", \"kfp-server-api==2.0.5\", \"kubernetes==26.1.0\", \"PyYAML==6.0.2\", \"requests-toolbelt==0.10.1\", \"tabulate==0.9.0\", \"protobuf==3.20.3\", \"urllib3==1.26.20\", \"numpy==1.24.4\", \"google-cloud-pipeline-components==2.8.0\"]\n",
    "    , base_image=\"python:3.9\"\n",
    "    , output_component_file=\"./components/deploy_model.yaml\"\n",
    ")\n",
    "def deploy_model(\n",
    "    model_resource_name : str ,\n",
    "    project_id : str ,\n",
    "    region: str\n",
    ")-> NamedTuple(\n",
    "    \"Outputs\",\n",
    "    [\n",
    "        (\"endpoint_resource_name\", str),  # Return parameter.\n",
    "    ],\n",
    "):\n",
    "    \n",
    "    print(f\"model_resource_name : {model_resource_name}\")\n",
    "    print(f\"project_id : {project_id}\")\n",
    "    print(f\"region : {region}\")\n",
    "    \n",
    "    from google.cloud import aiplatform\n",
    "    \n",
    "    aiplatform.init(project = project_id , location=region)\n",
    "    \n",
    "    model = aiplatform.Model(model_resource_name)\n",
    "    endpoint = model.deploy(machine_type=\"n1-standard-4\",\n",
    "                        min_replica_count=1,\n",
    "                        max_replica_count=1)\n",
    "    \n",
    "    return (endpoint.resource_name,)\n"
   ]
  },
  {
   "cell_type": "code",
   "execution_count": 33,
   "id": "7aa64eea-e6b0-4498-a435-4bc3f0b1dfcc",
   "metadata": {
    "tags": []
   },
   "outputs": [],
   "source": [
    "PROJECT_ID = 'wired-caldron-412419'"
   ]
  },
  {
   "cell_type": "code",
   "execution_count": 34,
   "id": "0c335e14-7bd5-43e4-af18-da780934812e",
   "metadata": {
    "tags": []
   },
   "outputs": [
    {
     "name": "stdout",
     "output_type": "stream",
     "text": [
      "Service Account: 330930586045-compute@developer.gserviceaccount.com\n",
      "Project ID:  wired-caldron-412419\n",
      "staging_bucket_uri:  gs://bucket2025nahumfg/inputs/trabajo_final_tercer_estadio\n",
      "input_data_path:  gs://bucket2025nahumfg/inputs/trabajo_final_tercer_estadio\n"
     ]
    }
   ],
   "source": [
    "shell_output = !gcloud auth list 2>/dev/null\n",
    "SERVICE_ACCOUNT = shell_output[2].replace(\"*\", \"\").strip()\n",
    "print(\"Service Account:\", SERVICE_ACCOUNT)\n",
    "print(\"Project ID: \", PROJECT_ID)\n",
    "print(\"staging_bucket_uri: \",BUCKET_NAME)\n",
    "print(\"input_data_path: \",BUCKET_NAME)\n"
   ]
  },
  {
   "cell_type": "code",
   "execution_count": 35,
   "id": "58ba9be7-5694-436a-b46a-77942b7f8b6b",
   "metadata": {
    "tags": []
   },
   "outputs": [
    {
     "name": "stdout",
     "output_type": "stream",
     "text": [
      "Writing config.json\n"
     ]
    }
   ],
   "source": [
    "%%writefile config.json\n",
    "{\n",
    "    \"project\":\"wired-caldron-412419\",\n",
    "    \"region\":\"us-central1\",\n",
    "    \"service_account\":\"330930586045-compute@developer.gserviceaccount.com\",\n",
    "    \"staging_bucket_uri\":\"gs://bucket2025nahumfg/inputs/trabajo_final_tercer_estadio\",\n",
    "    \"pipeline_name\":\"tabular-data-regression-kfp-cicd-pipeline\",\n",
    "    \"pipeline_package_path\":\"tabular-data-regression-kfp-cicd-pipeline.json\",\n",
    "    \"input_data_path\":\"gs://bucket2025nahumfg/inputs/trabajo_final_tercer_estadio\",\n",
    "    \"input_data_filename\":\"CreditScoring.csv\",\n",
    "    \"target_column_name\":\"SeriousDlqin2yrs\",\n",
    "    \"train_size\":0.8,\n",
    "    \"test_size\":0.1,\n",
    "    \"valid_size\":0.1,\n",
    "    \"deployment_metric\":\"r2\",\n",
    "    \"deployment_metric_threshold\":0.8,\n",
    "    \"model_name\":\"model_tabular_regression\",\n",
    "    \"serving_container_uri\":\"us-docker.pkg.dev/vertex-ai/prediction/sklearn-cpu.1-3:latest\"\n",
    "}"
   ]
  },
  {
   "cell_type": "code",
   "execution_count": 36,
   "id": "cdbf9903-26f5-485e-9e24-b2f71d1a162b",
   "metadata": {
    "tags": []
   },
   "outputs": [
    {
     "name": "stdout",
     "output_type": "stream",
     "text": [
      "Writing build_pipeline.py\n"
     ]
    }
   ],
   "source": [
    "%%writefile build_pipeline.py\n",
    "\n",
    "import json\n",
    "import yaml\n",
    "\n",
    "import kfp\n",
    "from kfp import dsl\n",
    "from kfp import compiler\n",
    "from kfp.components import load_component_from_file\n",
    "\n",
    "download_data = load_component_from_file(\"./components/download_data.yaml\")\n",
    "preprocess_data = load_component_from_file(\"./components/preprocess_data.yaml\")\n",
    "train_model = load_component_from_file(\"./components/train.yaml\")\n",
    "evaluate_model = load_component_from_file(\"./components/evaluate_model.yaml\")\n",
    "register_model = load_component_from_file(\"./components/register_model.yaml\")\n",
    "deploy_model = load_component_from_file(\"./components/deploy_model.yaml\")\n",
    "\n",
    "#read configuration from file\n",
    "with open(\"config.json\") as json_file:\n",
    "    config = json.load(json_file)\n",
    "    \n",
    "PIPELINE_NAME = config.get(\"pipeline_name\")\n",
    "PACKAGE_PATH = config.get(\"pipeline_package_path\")\n",
    "BUCKET_URI = config.get(\"staging_bucket_uri\")\n",
    "PIPELINE_ROOT = \"{}/pipeline_root/kfp_tabular_data_regression\".format(BUCKET_URI)\n",
    "print(f\"PIPELINE_ROOT :{PIPELINE_ROOT}\")\n",
    "\n",
    "@dsl.pipeline(\n",
    "    # Default pipeline root. You can override it when submitting the pipeline.\n",
    "    pipeline_root=PIPELINE_ROOT,\n",
    "    # A name for the pipeline. Use to define the pipeline Context.\n",
    "    name=PIPELINE_NAME,\n",
    "    \n",
    ")\n",
    "def pipeline(project: str = \"\",\n",
    " region: str = \"\",\n",
    " service_account: str = \"\",\n",
    " staging_bucket_uri: str = \"\",\n",
    " pipeline_name: str = \"\",\n",
    " pipeline_package_path: str = \"\",\n",
    " input_data_path: str = \"\",\n",
    " input_data_filename: str = \"\",\n",
    " target_column_name: str = \"\",\n",
    " train_size: float = 0.8,\n",
    " test_size: float = 0.1,\n",
    " valid_size: float = 0.1,\n",
    " hypertune_container_image_uri: str = \"\" ,\n",
    " hypertune_machine_type: str = \"\",\n",
    " hypertune_machine_replica_count: int = 1 ,\n",
    " hypertune_max_trial_count: int = 1 ,\n",
    " hypertune_parallel_trial_count: int = 1 ,\n",
    " hypertune_metric : str = \"\" ,\n",
    " hypertune_metric_objective : str = \"\" ,\n",
    " hypertune_job_name: str = \"\" ,\n",
    " deployment_metric: str = \"\" ,\n",
    " deployment_metric_threshold: float = 0.8 ,\n",
    " serving_container_uri : str = \"\" ,\n",
    " model_name : str = \"\", \n",
    " user_email : str = \"\",\n",
    " monitoring_job_name : str = \"\" ,\n",
    " predict_instance_schema_uri : str = \"\"\n",
    "):\n",
    "    \n",
    "    download_data_op = download_data(input_data_path = input_data_path \n",
    "                                     , input_data_filename = input_data_filename\n",
    "                                    )\n",
    "    \n",
    "    \n",
    "    preprocess_data_op = preprocess_data(train_size = train_size\n",
    "                                         , test_size = test_size\n",
    "                                         , valid_size = valid_size\n",
    "                                         , input_data = download_data_op.outputs[\"downloaded_data\"])\n",
    "    \n",
    "    train_model_op = train_model(train_data = preprocess_data_op.outputs[\"train_data\"])\n",
    "    \n",
    "    \n",
    "    evaluate_model_op = evaluate_model(test_data = preprocess_data_op.outputs[\"test_data\"]\n",
    "                                       ,model = train_model_op.outputs[\"model\"]\n",
    "                                       ,target_column_name = target_column_name\n",
    "                                       ,deployment_metric = deployment_metric \n",
    "                                       ,deployment_metric_threshold = deployment_metric_threshold\n",
    "                                      )\n",
    "    \n",
    "    with dsl.If(evaluate_model_op.outputs[\"deploy_flag\"] == \"True\"):\n",
    "        \n",
    "        register_model_op = register_model(serving_container_uri = serving_container_uri \n",
    "                                       , model = train_model_op.outputs[\"model\"]\n",
    "                                       , model_name = model_name\n",
    "                                       , project_id = project \n",
    "                                       , region = region)\n",
    "        \n",
    "        #deploy only if metric value exceeds deployment threshold\n",
    "        deploy_model_op = deploy_model(model_resource_name = register_model_op.outputs[\"model_resource_name\"] \n",
    "                                   , project_id = project \n",
    "                                   , region = region)\n",
    "    \n",
    "compiler.Compiler().compile(\n",
    "    pipeline_func=pipeline\n",
    "    , package_path=PACKAGE_PATH\n",
    ")\n"
   ]
  },
  {
   "cell_type": "code",
   "execution_count": 37,
   "id": "15bf6507-9239-4918-a104-6905d3865f48",
   "metadata": {
    "tags": []
   },
   "outputs": [
    {
     "name": "stdout",
     "output_type": "stream",
     "text": [
      "Writing run_pipeline.py\n"
     ]
    }
   ],
   "source": [
    "%%writefile run_pipeline.py\n",
    "\n",
    "from google.cloud import aiplatform\n",
    "import yaml\n",
    "import json\n",
    "\n",
    "with open(\"config.json\") as json_file:\n",
    "    config = json.load(json_file)\n",
    "    \n",
    "SERVICE_ACCOUNT = config.get(\"service_account\")\n",
    "DISPLAY_NAME = config.get(\"pipeline_name\")\n",
    "PACKAGE_PATH = config.get(\"pipeline_package_path\")\n",
    "BUCKET_URI = config.get(\"staging_bucket_uri\")\n",
    "PIPELINE_ROOT = \"{}/pipeline_root/kfp_tabular_data_regression\".format(BUCKET_URI)\n",
    "print(f\"PIPELINE_ROOT :{PIPELINE_ROOT}\")\n",
    "\n",
    "job = aiplatform.PipelineJob(\n",
    "    display_name=DISPLAY_NAME,\n",
    "    template_path=PACKAGE_PATH,\n",
    "    pipeline_root=PIPELINE_ROOT,\n",
    "    parameter_values=config,\n",
    ")\n",
    "\n",
    "job.submit(service_account = SERVICE_ACCOUNT)\n"
   ]
  },
  {
   "cell_type": "code",
   "execution_count": 38,
   "id": "fab8c0ba-a98a-4331-8876-eaf6899a95ee",
   "metadata": {
    "tags": []
   },
   "outputs": [
    {
     "name": "stdout",
     "output_type": "stream",
     "text": [
      "PIPELINE_ROOT :gs://bucket2025nahumfg/inputs/trabajo_final_tercer_estadio/pipeline_root/kfp_tabular_data_regression\n"
     ]
    }
   ],
   "source": [
    "!python3 build_pipeline.py"
   ]
  },
  {
   "cell_type": "code",
   "execution_count": 39,
   "id": "d9844eef-7a2f-4dbb-9de4-1fef83ce11b8",
   "metadata": {
    "tags": []
   },
   "outputs": [
    {
     "name": "stdout",
     "output_type": "stream",
     "text": [
      "PIPELINE_ROOT :gs://bucket2025nahumfg/inputs/trabajo_final_tercer_estadio/pipeline_root/kfp_tabular_data_regression\n",
      "Creating PipelineJob\n",
      "PipelineJob created. Resource name: projects/330930586045/locations/us-central1/pipelineJobs/tabular-data-regression-kfp-cicd-pipeline-20250208040506\n",
      "To use this PipelineJob in another session:\n",
      "pipeline_job = aiplatform.PipelineJob.get('projects/330930586045/locations/us-central1/pipelineJobs/tabular-data-regression-kfp-cicd-pipeline-20250208040506')\n",
      "View Pipeline Job:\n",
      "https://console.cloud.google.com/vertex-ai/locations/us-central1/pipelines/runs/tabular-data-regression-kfp-cicd-pipeline-20250208040506?project=330930586045\n"
     ]
    }
   ],
   "source": [
    "!python3 run_pipeline.py"
   ]
  },
  {
   "cell_type": "code",
   "execution_count": 61,
   "id": "91a2d7b5-b553-41ec-b6b7-bc5a7e00de9d",
   "metadata": {
    "tags": []
   },
   "outputs": [
    {
     "name": "stdout",
     "output_type": "stream",
     "text": [
      "Copying file://./config.json [Content-Type=application/json]...\n",
      "/ [1 files][  823.0 B/  823.0 B]                                                \n",
      "Operation completed over 1 objects/823.0 B.                                      \n",
      "Copying file://./tabular-data-regression-kfp-cicd-pipeline.json [Content-Type=application/json]...\n",
      "/ [1 files][ 31.6 KiB/ 31.6 KiB]                                                \n",
      "Operation completed over 1 objects/31.6 KiB.                                     \n"
     ]
    }
   ],
   "source": [
    "! gsutil cp ./config.json $BUCKET_NAME\n",
    "! gsutil cp ./tabular-data-regression-kfp-cicd-pipeline.json $BUCKET_NAME\n",
    "! gsutil acl ch -u AllUsers:R $BUCKET_NAME/config.json\n",
    "! gsutil acl ch -u AllUsers:R $BUCKET_NAME/tabular-data-regression-kfp-cicd-pipeline.json"
   ]
  },
  {
   "cell_type": "code",
   "execution_count": null,
   "id": "990f4377-c66e-4a5d-a535-5ab9f7dba3d9",
   "metadata": {},
   "outputs": [],
   "source": []
  }
 ],
 "metadata": {
  "environment": {
   "kernel": "conda-base-py",
   "name": "workbench-notebooks.m127",
   "type": "gcloud",
   "uri": "us-docker.pkg.dev/deeplearning-platform-release/gcr.io/workbench-notebooks:m127"
  },
  "kernelspec": {
   "display_name": "Python 3 (ipykernel)",
   "language": "python",
   "name": "conda-base-py"
  },
  "language_info": {
   "codemirror_mode": {
    "name": "ipython",
    "version": 3
   },
   "file_extension": ".py",
   "mimetype": "text/x-python",
   "name": "python",
   "nbconvert_exporter": "python",
   "pygments_lexer": "ipython3",
   "version": "3.10.16"
  }
 },
 "nbformat": 4,
 "nbformat_minor": 5
}
